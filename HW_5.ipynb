{
 "cells": [
  {
   "cell_type": "markdown",
   "metadata": {},
   "source": [
    "## Домашнее задание \"Проблема качества данных\""
   ]
  },
  {
   "cell_type": "code",
   "execution_count": 1,
   "metadata": {},
   "outputs": [],
   "source": [
    "import numpy as np\n",
    "import pandas as pd\n",
    "import seaborn as sns\n",
    "import matplotlib.pyplot as plt\n",
    "\n",
    "from sklearn.linear_model import LinearRegression\n",
    "from sklearn.metrics import mean_absolute_error"
   ]
  },
  {
   "cell_type": "markdown",
   "metadata": {},
   "source": [
    "Имеются данные по покупкам посетителей кофейни определенного вида кофе. Использую систему лояльности мы получили данные о размере дохода посетителей, их возраст. В датасете также имеется информация о количесте приобетенного товара, его цене. Попытаемся построить зависимость частоты покупок от дохода покупателей."
   ]
  },
  {
   "cell_type": "code",
   "execution_count": 24,
   "metadata": {},
   "outputs": [
    {
     "data": {
      "text/html": [
       "<div>\n",
       "<style scoped>\n",
       "    .dataframe tbody tr th:only-of-type {\n",
       "        vertical-align: middle;\n",
       "    }\n",
       "\n",
       "    .dataframe tbody tr th {\n",
       "        vertical-align: top;\n",
       "    }\n",
       "\n",
       "    .dataframe thead th {\n",
       "        text-align: right;\n",
       "    }\n",
       "</style>\n",
       "<table border=\"1\" class=\"dataframe\">\n",
       "  <thead>\n",
       "    <tr style=\"text-align: right;\">\n",
       "      <th></th>\n",
       "      <th>age</th>\n",
       "      <th>price</th>\n",
       "      <th>quantity</th>\n",
       "      <th>salary</th>\n",
       "    </tr>\n",
       "  </thead>\n",
       "  <tbody>\n",
       "    <tr>\n",
       "      <th>0</th>\n",
       "      <td>20</td>\n",
       "      <td>1082</td>\n",
       "      <td>2</td>\n",
       "      <td>23532.632762</td>\n",
       "    </tr>\n",
       "    <tr>\n",
       "      <th>1</th>\n",
       "      <td>27</td>\n",
       "      <td>309</td>\n",
       "      <td>4</td>\n",
       "      <td>14252.632762</td>\n",
       "    </tr>\n",
       "    <tr>\n",
       "      <th>2</th>\n",
       "      <td>34</td>\n",
       "      <td>1065</td>\n",
       "      <td>13</td>\n",
       "      <td>140342.632762</td>\n",
       "    </tr>\n",
       "    <tr>\n",
       "      <th>3</th>\n",
       "      <td>46</td>\n",
       "      <td>978</td>\n",
       "      <td>7</td>\n",
       "      <td>70352.632762</td>\n",
       "    </tr>\n",
       "    <tr>\n",
       "      <th>4</th>\n",
       "      <td>58</td>\n",
       "      <td>347</td>\n",
       "      <td>10</td>\n",
       "      <td>36592.632762</td>\n",
       "    </tr>\n",
       "  </tbody>\n",
       "</table>\n",
       "</div>"
      ],
      "text/plain": [
       "   age  price  quantity         salary\n",
       "0   20   1082         2   23532.632762\n",
       "1   27    309         4   14252.632762\n",
       "2   34   1065        13  140342.632762\n",
       "3   46    978         7   70352.632762\n",
       "4   58    347        10   36592.632762"
      ]
     },
     "execution_count": 24,
     "metadata": {},
     "output_type": "execute_result"
    }
   ],
   "source": [
    "n = 10000\n",
    "age = np.random.choice(60, n) + 20\n",
    "price = np.random.choice(1000, n) + 200\n",
    "quantity = np.random.choice(29, n) + 1\n",
    "\n",
    "salary = price*quantity*10 + np.random.normal()*1000\n",
    "\n",
    "data = pd.DataFrame({'age': age, 'price': price, 'quantity': quantity, 'salary': salary})\n",
    "data.head(5)"
   ]
  },
  {
   "cell_type": "markdown",
   "metadata": {},
   "source": [
    "Если посмотреть на зависимости признаков и целевой переменной, то они отличаются не только по характеру распределения, но и не совсем могут быть отнесены к линейной зависимости и при увеличении значений признака ошибка будет значительно расти."
   ]
  },
  {
   "cell_type": "code",
   "execution_count": 25,
   "metadata": {},
   "outputs": [
    {
     "data": {
      "text/plain": [
       "<matplotlib.axes._subplots.AxesSubplot at 0x1d5447da6c8>"
      ]
     },
     "execution_count": 25,
     "metadata": {},
     "output_type": "execute_result"
    },
    {
     "data": {
      "image/png": "[encoded data removed]",
      "text/plain": [
       "<Figure size 432x288 with 1 Axes>"
      ]
     },
     "metadata": {
      "needs_background": "light"
     },
     "output_type": "display_data"
    }
   ],
   "source": [
    "sns.distplot(data[['salary']])"
   ]
  },
  {
   "cell_type": "code",
   "execution_count": 26,
   "metadata": {},
   "outputs": [
    {
     "data": {
      "text/plain": [
       "90297.63276170539"
      ]
     },
     "execution_count": 26,
     "metadata": {},
     "output_type": "execute_result"
    }
   ],
   "source": [
    "data['salary'].median()"
   ]
  },
  {
   "cell_type": "code",
   "execution_count": 27,
   "metadata": {},
   "outputs": [
    {
     "data": {
      "text/plain": [
       "<matplotlib.axes._subplots.AxesSubplot at 0x1d544895788>"
      ]
     },
     "execution_count": 27,
     "metadata": {},
     "output_type": "execute_result"
    },
    {
     "data": {
      "image/png": "[encoded data removed]",
      "text/plain": [
       "<Figure size 432x288 with 1 Axes>"
      ]
     },
     "metadata": {
      "needs_background": "light"
     },
     "output_type": "display_data"
    }
   ],
   "source": [
    "sns.distplot(data[['price']])"
   ]
  },
  {
   "cell_type": "markdown",
   "metadata": {},
   "source": [
    "Построим модель на основе всех признаков"
   ]
  },
  {
   "cell_type": "code",
   "execution_count": 28,
   "metadata": {},
   "outputs": [
    {
     "name": "stdout",
     "output_type": "stream",
     "text": [
      "Coef: [ -11.40983013 7025.87824969  149.54865651]\n",
      "Intercept: -102825.70416064122\n",
      "MAE: 18226.612826627326\n"
     ]
    }
   ],
   "source": [
    "X = data[['age', 'quantity', 'price']]\n",
    "y = data['salary']\n",
    "model_all = LinearRegression()\n",
    "model_all.fit(X, y)\n",
    "print(f'Coef: {model_all.coef_}')\n",
    "print(f'Intercept: {model_all.intercept_}')\n",
    "\n",
    "prediction = model_all.predict(X)\n",
    "print(f'MAE: {mean_absolute_error(prediction, y)}')"
   ]
  },
  {
   "cell_type": "markdown",
   "metadata": {},
   "source": [
    "В результате видим, что показатель качества модели МАЕ достаточно большой. То есть, при медианном значнии (берем медиану так как у нас гауссовское расределение salary) отклонение может быть порядка 20%. Из графика видно, что с увеличением количества ошибка будет больше."
   ]
  },
  {
   "cell_type": "markdown",
   "metadata": {},
   "source": [
    "Построим модель на основе одного признака"
   ]
  },
  {
   "cell_type": "code",
   "execution_count": 29,
   "metadata": {},
   "outputs": [
    {
     "name": "stdout",
     "output_type": "stream",
     "text": [
      "Coef: [6980.72593787]\n",
      "Intercept: 2464.3090125287417\n",
      "MAE: 37646.817481050304\n"
     ]
    }
   ],
   "source": [
    "X = data[['quantity']]\n",
    "y = data['salary']\n",
    "model_one = LinearRegression()\n",
    "model_one.fit(X, y)\n",
    "print(f'Coef: {model_one.coef_}')\n",
    "print(f'Intercept: {model_one.intercept_}')\n",
    "\n",
    "prediction = model_one.predict(X)\n",
    "print(f'MAE: {mean_absolute_error(prediction, y)}')"
   ]
  },
  {
   "cell_type": "markdown",
   "metadata": {},
   "source": [
    "В результате видим, что показатель качества модели МАЕ стал еще хуже"
   ]
  },
  {
   "cell_type": "markdown",
   "metadata": {},
   "source": [
    "Чтобы переменные были линейно зависимы, их распределения значений должны быть похожи или одного типа. И если перемножить qty и goodsprice, то новый признак будет схож с рампределением salary"
   ]
  },
  {
   "cell_type": "code",
   "execution_count": 30,
   "metadata": {},
   "outputs": [
    {
     "data": {
      "text/html": [
       "<div>\n",
       "<style scoped>\n",
       "    .dataframe tbody tr th:only-of-type {\n",
       "        vertical-align: middle;\n",
       "    }\n",
       "\n",
       "    .dataframe tbody tr th {\n",
       "        vertical-align: top;\n",
       "    }\n",
       "\n",
       "    .dataframe thead th {\n",
       "        text-align: right;\n",
       "    }\n",
       "</style>\n",
       "<table border=\"1\" class=\"dataframe\">\n",
       "  <thead>\n",
       "    <tr style=\"text-align: right;\">\n",
       "      <th></th>\n",
       "      <th>age</th>\n",
       "      <th>price</th>\n",
       "      <th>quantity</th>\n",
       "      <th>salary</th>\n",
       "      <th>sum</th>\n",
       "    </tr>\n",
       "  </thead>\n",
       "  <tbody>\n",
       "    <tr>\n",
       "      <th>0</th>\n",
       "      <td>20</td>\n",
       "      <td>1082</td>\n",
       "      <td>2</td>\n",
       "      <td>23532.632762</td>\n",
       "      <td>2164</td>\n",
       "    </tr>\n",
       "    <tr>\n",
       "      <th>1</th>\n",
       "      <td>27</td>\n",
       "      <td>309</td>\n",
       "      <td>4</td>\n",
       "      <td>14252.632762</td>\n",
       "      <td>1236</td>\n",
       "    </tr>\n",
       "    <tr>\n",
       "      <th>2</th>\n",
       "      <td>34</td>\n",
       "      <td>1065</td>\n",
       "      <td>13</td>\n",
       "      <td>140342.632762</td>\n",
       "      <td>13845</td>\n",
       "    </tr>\n",
       "    <tr>\n",
       "      <th>3</th>\n",
       "      <td>46</td>\n",
       "      <td>978</td>\n",
       "      <td>7</td>\n",
       "      <td>70352.632762</td>\n",
       "      <td>6846</td>\n",
       "    </tr>\n",
       "    <tr>\n",
       "      <th>4</th>\n",
       "      <td>58</td>\n",
       "      <td>347</td>\n",
       "      <td>10</td>\n",
       "      <td>36592.632762</td>\n",
       "      <td>3470</td>\n",
       "    </tr>\n",
       "    <tr>\n",
       "      <th>...</th>\n",
       "      <td>...</td>\n",
       "      <td>...</td>\n",
       "      <td>...</td>\n",
       "      <td>...</td>\n",
       "      <td>...</td>\n",
       "    </tr>\n",
       "    <tr>\n",
       "      <th>9995</th>\n",
       "      <td>22</td>\n",
       "      <td>343</td>\n",
       "      <td>22</td>\n",
       "      <td>77352.632762</td>\n",
       "      <td>7546</td>\n",
       "    </tr>\n",
       "    <tr>\n",
       "      <th>9996</th>\n",
       "      <td>38</td>\n",
       "      <td>1068</td>\n",
       "      <td>27</td>\n",
       "      <td>290252.632762</td>\n",
       "      <td>28836</td>\n",
       "    </tr>\n",
       "    <tr>\n",
       "      <th>9997</th>\n",
       "      <td>50</td>\n",
       "      <td>414</td>\n",
       "      <td>2</td>\n",
       "      <td>10172.632762</td>\n",
       "      <td>828</td>\n",
       "    </tr>\n",
       "    <tr>\n",
       "      <th>9998</th>\n",
       "      <td>79</td>\n",
       "      <td>1019</td>\n",
       "      <td>22</td>\n",
       "      <td>226072.632762</td>\n",
       "      <td>22418</td>\n",
       "    </tr>\n",
       "    <tr>\n",
       "      <th>9999</th>\n",
       "      <td>51</td>\n",
       "      <td>542</td>\n",
       "      <td>9</td>\n",
       "      <td>50672.632762</td>\n",
       "      <td>4878</td>\n",
       "    </tr>\n",
       "  </tbody>\n",
       "</table>\n",
       "<p>10000 rows × 5 columns</p>\n",
       "</div>"
      ],
      "text/plain": [
       "      age  price  quantity         salary    sum\n",
       "0      20   1082         2   23532.632762   2164\n",
       "1      27    309         4   14252.632762   1236\n",
       "2      34   1065        13  140342.632762  13845\n",
       "3      46    978         7   70352.632762   6846\n",
       "4      58    347        10   36592.632762   3470\n",
       "...   ...    ...       ...            ...    ...\n",
       "9995   22    343        22   77352.632762   7546\n",
       "9996   38   1068        27  290252.632762  28836\n",
       "9997   50    414         2   10172.632762    828\n",
       "9998   79   1019        22  226072.632762  22418\n",
       "9999   51    542         9   50672.632762   4878\n",
       "\n",
       "[10000 rows x 5 columns]"
      ]
     },
     "execution_count": 30,
     "metadata": {},
     "output_type": "execute_result"
    }
   ],
   "source": [
    "data['sum'] = data['quantity'] * data['price']\n",
    "data"
   ]
  },
  {
   "cell_type": "code",
   "execution_count": 31,
   "metadata": {},
   "outputs": [
    {
     "data": {
      "text/plain": [
       "<matplotlib.axes._subplots.AxesSubplot at 0x1d541c75848>"
      ]
     },
     "execution_count": 31,
     "metadata": {},
     "output_type": "execute_result"
    },
    {
     "data": {
      "image/png": "[encoded data removed]",
      "text/plain": [
       "<Figure size 432x288 with 1 Axes>"
      ]
     },
     "metadata": {
      "needs_background": "light"
     },
     "output_type": "display_data"
    }
   ],
   "source": [
    "sns.distplot(data[['sum']])"
   ]
  },
  {
   "cell_type": "markdown",
   "metadata": {},
   "source": [
    " Если возьмем теперь построим модель на основе нового признака и целевой переменной, то ошика МАЕ будет близка к 0, что говорит о хорошей прогнозируемости модели и линейной зависимости."
   ]
  },
  {
   "cell_type": "code",
   "execution_count": 32,
   "metadata": {},
   "outputs": [
    {
     "name": "stdout",
     "output_type": "stream",
     "text": [
      "Coef: [10.]\n",
      "Intercept: 1892.6327617053903\n",
      "MAE: 2.8007889341097327e-11\n"
     ]
    }
   ],
   "source": [
    "Xfin = data[['sum']]\n",
    "y = data['salary']\n",
    "model_fin = LinearRegression()\n",
    "model_fin.fit(Xfin, y)\n",
    "print(f'Coef: {model_fin.coef_}')\n",
    "print(f'Intercept: {model_fin.intercept_}')\n",
    "\n",
    "prediction_fin = model_fin.predict(Xfin)\n",
    "print(f'MAE: {mean_absolute_error(prediction_fin, y)}')"
   ]
  },
  {
   "cell_type": "code",
   "execution_count": 33,
   "metadata": {},
   "outputs": [
    {
     "data": {
      "text/html": [
       "<div>\n",
       "<style scoped>\n",
       "    .dataframe tbody tr th:only-of-type {\n",
       "        vertical-align: middle;\n",
       "    }\n",
       "\n",
       "    .dataframe tbody tr th {\n",
       "        vertical-align: top;\n",
       "    }\n",
       "\n",
       "    .dataframe thead th {\n",
       "        text-align: right;\n",
       "    }\n",
       "</style>\n",
       "<table border=\"1\" class=\"dataframe\">\n",
       "  <thead>\n",
       "    <tr style=\"text-align: right;\">\n",
       "      <th></th>\n",
       "      <th>sum</th>\n",
       "      <th>salary</th>\n",
       "    </tr>\n",
       "  </thead>\n",
       "  <tbody>\n",
       "    <tr>\n",
       "      <th>sum</th>\n",
       "      <td>1.0</td>\n",
       "      <td>1.0</td>\n",
       "    </tr>\n",
       "    <tr>\n",
       "      <th>salary</th>\n",
       "      <td>1.0</td>\n",
       "      <td>1.0</td>\n",
       "    </tr>\n",
       "  </tbody>\n",
       "</table>\n",
       "</div>"
      ],
      "text/plain": [
       "        sum  salary\n",
       "sum     1.0     1.0\n",
       "salary  1.0     1.0"
      ]
     },
     "execution_count": 33,
     "metadata": {},
     "output_type": "execute_result"
    }
   ],
   "source": [
    "data[['sum', 'salary']].corr()"
   ]
  },
  {
   "cell_type": "markdown",
   "metadata": {},
   "source": [
    "Если в модель добавить дополнительно все признаки, то видим, что качество улучшилось (МАЕ снизилось)"
   ]
  },
  {
   "cell_type": "code",
   "execution_count": 34,
   "metadata": {},
   "outputs": [
    {
     "name": "stdout",
     "output_type": "stream",
     "text": [
      "Coef: [-5.45148227e-14 -5.01707967e-12 -4.66800152e-14  1.00000000e+01]\n",
      "Intercept: 1892.6327617054485\n",
      "MAE: 1.8953596736537293e-11\n"
     ]
    }
   ],
   "source": [
    "Xfin = data[['age', 'quantity', 'price', 'sum']]\n",
    "y = data['salary']\n",
    "model_fin = LinearRegression()\n",
    "model_fin.fit(Xfin, y)\n",
    "print(f'Coef: {model_fin.coef_}')\n",
    "print(f'Intercept: {model_fin.intercept_}')\n",
    "\n",
    "prediction_fin = model_fin.predict(Xfin)\n",
    "print(f'MAE: {mean_absolute_error(prediction_fin, y)}')"
   ]
  },
  {
   "cell_type": "markdown",
   "metadata": {},
   "source": [
    "Если обратить внимание на коэффициенты признаков, то можно заметить, что они близки к нулю, что говорит об их низком влиянии на предсказательную способность модели"
   ]
  },
  {
   "cell_type": "code",
   "execution_count": null,
   "metadata": {},
   "outputs": [],
   "source": []
  }
 ],
 "metadata": {
  "kernelspec": {
   "display_name": "Python 3",
   "language": "python",
   "name": "python3"
  },
  "language_info": {
   "codemirror_mode": {
    "name": "ipython",
    "version": 3
   },
   "file_extension": ".py",
   "mimetype": "text/x-python",
   "name": "python",
   "nbconvert_exporter": "python",
   "pygments_lexer": "ipython3",
   "version": "3.7.6"
  }
 },
 "nbformat": 4,
 "nbformat_minor": 4
}
